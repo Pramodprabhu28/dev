{
 "cells": [
  {
   "cell_type": "code",
   "execution_count": 0,
   "metadata": {
    "application/vnd.databricks.v1+cell": {
     "cellMetadata": {},
     "inputWidgets": {},
     "nuid": "28f12161-3980-4c7b-b8e8-ba761e7439ed",
     "showTitle": false,
     "tableResultSettingsMap": {},
     "title": ""
    }
   },
   "outputs": [],
   "source": [
    "from pyspark.sql import SparkSession\n",
    "from pyspark.sql.functions import col, sum, avg, round\n",
    "\n",
    "spark = SparkSession.builder.appName(\"SalesDataPractice\").getOrCreate()\n",
    "\n",
    "# Sample sales data\n",
    "data = [\n",
    "    (\"2025-08-01\", \"North\", \"Laptop\", 2, 70000),\n",
    "    (\"2025-08-01\", \"South\", \"Tablet\", 5, 15000),\n",
    "    (\"2025-08-02\", \"East\", \"Smartphone\", 3, 25000),\n",
    "    (\"2025-08-02\", \"West\", \"Laptop\", 1, 70000),\n",
    "    (\"2025-08-03\", \"North\", \"Smartphone\", 4, 25000),\n",
    "    (\"2025-08-03\", \"South\", \"Tablet\", 2, 15000),\n",
    "    (\"2025-08-04\", \"East\", \"Laptop\", 3, 70000),\n",
    "    (\"2025-08-04\", \"West\", \"Smartphone\", 2, 25000),\n",
    "]\n",
    "\n",
    "columns = [\"date\", \"region\", \"product\", \"quantity\", \"unit_price\"]\n",
    "\n",
    "sales_df = spark.createDataFrame(data, columns)\n",
    "sales_df.show()"
   ]
  },
  {
   "cell_type": "code",
   "execution_count": 0,
   "metadata": {
    "application/vnd.databricks.v1+cell": {
     "cellMetadata": {},
     "inputWidgets": {},
     "nuid": "952dcb89-0c13-474f-8a9e-0704aaadfbc3",
     "showTitle": false,
     "tableResultSettingsMap": {},
     "title": ""
    }
   },
   "outputs": [],
   "source": [
    "# Add total sales column\n",
    "sales_df = sales_df.withColumn(\"total_sales\", col(\"quantity\") * col(\"unit_price\"))\n",
    "sales_df.show()"
   ]
  },
  {
   "cell_type": "code",
   "execution_count": 0,
   "metadata": {
    "application/vnd.databricks.v1+cell": {
     "cellMetadata": {},
     "inputWidgets": {},
     "nuid": "c2bf9317-c188-4130-81a6-142682c43695",
     "showTitle": false,
     "tableResultSettingsMap": {},
     "title": ""
    }
   },
   "outputs": [],
   "source": [
    "region_sales = sales_df.groupBy(\"region\").agg(\n",
    "    sum(\"total_sales\").alias(\"region_total_sales\")\n",
    ")\n",
    "region_sales.show()"
   ]
  },
  {
   "cell_type": "code",
   "execution_count": 0,
   "metadata": {
    "application/vnd.databricks.v1+cell": {
     "cellMetadata": {},
     "inputWidgets": {},
     "nuid": "0439bb12-e51d-4e7b-a71d-5f53119758d0",
     "showTitle": false,
     "tableResultSettingsMap": {},
     "title": ""
    }
   },
   "outputs": [],
   "source": [
    "daily_sales = sales_df.groupBy(\"date\").agg(\n",
    "    sum(\"total_sales\").alias(\"daily_total_sales\")\n",
    ").orderBy(\"date\")\n",
    "daily_sales.show()"
   ]
  },
  {
   "cell_type": "code",
   "execution_count": 0,
   "metadata": {
    "application/vnd.databricks.v1+cell": {
     "cellMetadata": {},
     "inputWidgets": {},
     "nuid": "df850ee7-fded-4d50-ad9d-cfa5018ad564",
     "showTitle": false,
     "tableResultSettingsMap": {},
     "title": ""
    }
   },
   "outputs": [],
   "source": [
    "sales_df.write.format(\"delta\").mode(\"overwrite\").saveAsTable(\"sales_data_delta\")"
   ]
  }
 ],
 "metadata": {
  "application/vnd.databricks.v1+notebook": {
   "computePreferences": null,
   "dashboards": [],
   "environmentMetadata": {
    "base_environment": "",
    "environment_version": "3"
   },
   "inputWidgetPreferences": null,
   "language": "python",
   "notebookMetadata": {
    "pythonIndentUnit": 4
   },
   "notebookName": "sales",
   "widgets": {}
  },
  "language_info": {
   "name": "python"
  }
 },
 "nbformat": 4,
 "nbformat_minor": 0
}
